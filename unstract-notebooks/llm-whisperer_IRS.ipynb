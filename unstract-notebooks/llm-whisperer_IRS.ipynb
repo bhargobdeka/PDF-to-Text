{
 "cells": [
  {
   "cell_type": "code",
   "execution_count": 1,
   "metadata": {},
   "outputs": [
    {
     "name": "stderr",
     "output_type": "stream",
     "text": [
      "2024-12-28 09:29:43,061 - unstract.llmwhisperer.client_v2 - DEBUG - logging_level set to DEBUG\n",
      "2024-12-28 09:29:43,062 - unstract.llmwhisperer.client_v2 - DEBUG - base_url set to https://llmwhisperer-api.us-central.unstract.com/api/v2\n"
     ]
    }
   ],
   "source": [
    "from unstract.llmwhisperer import LLMWhispererClientV2\n",
    "import os\n",
    "from dotenv import load_dotenv\n",
    "\n",
    "# access the openai api and unstract llm whisperer key from .env file and map it to the current system\n",
    "os.environ['OPENAI_API_KEY']=os.getenv(\"openai_api_key\")\n",
    "UNSTRACT_API_KEY = os.getenv(\"unstract_api_key\")\n",
    "BASE_URL = os.getenv(\"BASE_URL\")\n",
    "\n",
    "client = LLMWhispererClientV2(api_key=UNSTRACT_API_KEY) # base_url=BASE_URL, api_key=UNSTRACT_API_KEY"
   ]
  },
  {
   "cell_type": "code",
   "execution_count": 2,
   "metadata": {},
   "outputs": [
    {
     "name": "stdout",
     "output_type": "stream",
     "text": [
      "\u001b[0;31mSignature:\u001b[0m\n",
      "\u001b[0mclient\u001b[0m\u001b[0;34m.\u001b[0m\u001b[0mwhisper\u001b[0m\u001b[0;34m(\u001b[0m\u001b[0;34m\u001b[0m\n",
      "\u001b[0;34m\u001b[0m    \u001b[0mfile_path\u001b[0m\u001b[0;34m:\u001b[0m \u001b[0mstr\u001b[0m \u001b[0;34m=\u001b[0m \u001b[0;34m''\u001b[0m\u001b[0;34m,\u001b[0m\u001b[0;34m\u001b[0m\n",
      "\u001b[0;34m\u001b[0m    \u001b[0mstream\u001b[0m\u001b[0;34m:\u001b[0m \u001b[0mIO\u001b[0m\u001b[0;34m[\u001b[0m\u001b[0mbytes\u001b[0m\u001b[0;34m]\u001b[0m \u001b[0;34m=\u001b[0m \u001b[0;32mNone\u001b[0m\u001b[0;34m,\u001b[0m\u001b[0;34m\u001b[0m\n",
      "\u001b[0;34m\u001b[0m    \u001b[0murl\u001b[0m\u001b[0;34m:\u001b[0m \u001b[0mstr\u001b[0m \u001b[0;34m=\u001b[0m \u001b[0;34m''\u001b[0m\u001b[0;34m,\u001b[0m\u001b[0;34m\u001b[0m\n",
      "\u001b[0;34m\u001b[0m    \u001b[0mmode\u001b[0m\u001b[0;34m:\u001b[0m \u001b[0mstr\u001b[0m \u001b[0;34m=\u001b[0m \u001b[0;34m'form'\u001b[0m\u001b[0;34m,\u001b[0m\u001b[0;34m\u001b[0m\n",
      "\u001b[0;34m\u001b[0m    \u001b[0moutput_mode\u001b[0m\u001b[0;34m:\u001b[0m \u001b[0mstr\u001b[0m \u001b[0;34m=\u001b[0m \u001b[0;34m'layout_preserving'\u001b[0m\u001b[0;34m,\u001b[0m\u001b[0;34m\u001b[0m\n",
      "\u001b[0;34m\u001b[0m    \u001b[0mpage_seperator\u001b[0m\u001b[0;34m:\u001b[0m \u001b[0mstr\u001b[0m \u001b[0;34m=\u001b[0m \u001b[0;34m'<<<'\u001b[0m\u001b[0;34m,\u001b[0m\u001b[0;34m\u001b[0m\n",
      "\u001b[0;34m\u001b[0m    \u001b[0mpages_to_extract\u001b[0m\u001b[0;34m:\u001b[0m \u001b[0mstr\u001b[0m \u001b[0;34m=\u001b[0m \u001b[0;34m''\u001b[0m\u001b[0;34m,\u001b[0m\u001b[0;34m\u001b[0m\n",
      "\u001b[0;34m\u001b[0m    \u001b[0mmedian_filter_size\u001b[0m\u001b[0;34m:\u001b[0m \u001b[0mint\u001b[0m \u001b[0;34m=\u001b[0m \u001b[0;36m0\u001b[0m\u001b[0;34m,\u001b[0m\u001b[0;34m\u001b[0m\n",
      "\u001b[0;34m\u001b[0m    \u001b[0mgaussian_blur_radius\u001b[0m\u001b[0;34m:\u001b[0m \u001b[0mint\u001b[0m \u001b[0;34m=\u001b[0m \u001b[0;36m0\u001b[0m\u001b[0;34m,\u001b[0m\u001b[0;34m\u001b[0m\n",
      "\u001b[0;34m\u001b[0m    \u001b[0mline_splitter_tolerance\u001b[0m\u001b[0;34m:\u001b[0m \u001b[0mfloat\u001b[0m \u001b[0;34m=\u001b[0m \u001b[0;36m0.4\u001b[0m\u001b[0;34m,\u001b[0m\u001b[0;34m\u001b[0m\n",
      "\u001b[0;34m\u001b[0m    \u001b[0mhorizontal_stretch_factor\u001b[0m\u001b[0;34m:\u001b[0m \u001b[0mfloat\u001b[0m \u001b[0;34m=\u001b[0m \u001b[0;36m1.0\u001b[0m\u001b[0;34m,\u001b[0m\u001b[0;34m\u001b[0m\n",
      "\u001b[0;34m\u001b[0m    \u001b[0mmark_vertical_lines\u001b[0m\u001b[0;34m:\u001b[0m \u001b[0mbool\u001b[0m \u001b[0;34m=\u001b[0m \u001b[0;32mFalse\u001b[0m\u001b[0;34m,\u001b[0m\u001b[0;34m\u001b[0m\n",
      "\u001b[0;34m\u001b[0m    \u001b[0mmark_horizontal_lines\u001b[0m\u001b[0;34m:\u001b[0m \u001b[0mbool\u001b[0m \u001b[0;34m=\u001b[0m \u001b[0;32mFalse\u001b[0m\u001b[0;34m,\u001b[0m\u001b[0;34m\u001b[0m\n",
      "\u001b[0;34m\u001b[0m    \u001b[0mline_spitter_strategy\u001b[0m\u001b[0;34m:\u001b[0m \u001b[0mstr\u001b[0m \u001b[0;34m=\u001b[0m \u001b[0;34m'left-priority'\u001b[0m\u001b[0;34m,\u001b[0m\u001b[0;34m\u001b[0m\n",
      "\u001b[0;34m\u001b[0m    \u001b[0mlang\u001b[0m\u001b[0;34m=\u001b[0m\u001b[0;34m'eng'\u001b[0m\u001b[0;34m,\u001b[0m\u001b[0;34m\u001b[0m\n",
      "\u001b[0;34m\u001b[0m    \u001b[0mtag\u001b[0m\u001b[0;34m=\u001b[0m\u001b[0;34m'default'\u001b[0m\u001b[0;34m,\u001b[0m\u001b[0;34m\u001b[0m\n",
      "\u001b[0;34m\u001b[0m    \u001b[0mfilename\u001b[0m\u001b[0;34m=\u001b[0m\u001b[0;34m''\u001b[0m\u001b[0;34m,\u001b[0m\u001b[0;34m\u001b[0m\n",
      "\u001b[0;34m\u001b[0m    \u001b[0mwebhook_metadata\u001b[0m\u001b[0;34m=\u001b[0m\u001b[0;34m''\u001b[0m\u001b[0;34m,\u001b[0m\u001b[0;34m\u001b[0m\n",
      "\u001b[0;34m\u001b[0m    \u001b[0muse_webhook\u001b[0m\u001b[0;34m=\u001b[0m\u001b[0;34m''\u001b[0m\u001b[0;34m,\u001b[0m\u001b[0;34m\u001b[0m\n",
      "\u001b[0;34m\u001b[0m    \u001b[0mwait_for_completion\u001b[0m\u001b[0;34m=\u001b[0m\u001b[0;32mFalse\u001b[0m\u001b[0;34m,\u001b[0m\u001b[0;34m\u001b[0m\n",
      "\u001b[0;34m\u001b[0m    \u001b[0mwait_timeout\u001b[0m\u001b[0;34m=\u001b[0m\u001b[0;36m180\u001b[0m\u001b[0;34m,\u001b[0m\u001b[0;34m\u001b[0m\n",
      "\u001b[0;34m\u001b[0m    \u001b[0mencoding\u001b[0m\u001b[0;34m:\u001b[0m \u001b[0mstr\u001b[0m \u001b[0;34m=\u001b[0m \u001b[0;34m'utf-8'\u001b[0m\u001b[0;34m,\u001b[0m\u001b[0;34m\u001b[0m\n",
      "\u001b[0;34m\u001b[0m\u001b[0;34m)\u001b[0m \u001b[0;34m->\u001b[0m \u001b[0mdict\u001b[0m\u001b[0;34m\u001b[0m\u001b[0;34m\u001b[0m\u001b[0m\n",
      "\u001b[0;31mDocstring:\u001b[0m\n",
      "Sends a request to the LLMWhisperer API to process a document.\n",
      "Refer to https://docs.unstract.com/llm_whisperer/apis/llm_whisperer_text_extraction_api\n",
      "\n",
      "Args:\n",
      "    file_path (str, optional): The path to the file to be processed. Defaults to \"\".\n",
      "    stream (IO[bytes], optional): A stream of bytes to be processed. Defaults to None.\n",
      "    url (str, optional): The URL of the file to be processed. Defaults to \"\".\n",
      "    mode (str, optional): The processing mode. Can be \"high_quality\", \"form\", \"low_cost\" or \"native_text\".\n",
      "        Defaults to \"high_quality\".\n",
      "    output_mode (str, optional): The output mode. Can be \"layout_preserving\" or \"text\".\n",
      "        Defaults to \"layout_preserving\".\n",
      "    page_seperator (str, optional): The page separator. Defaults to \"<<<\".\n",
      "    pages_to_extract (str, optional): The pages to extract. Defaults to \"\".\n",
      "    median_filter_size (int, optional): The size of the median filter. Defaults to 0.\n",
      "    gaussian_blur_radius (int, optional): The radius of the Gaussian blur. Defaults to 0.\n",
      "    line_splitter_tolerance (float, optional): The line splitter tolerance. Defaults to 0.4.\n",
      "    horizontal_stretch_factor (float, optional): The horizontal stretch factor. Defaults to 1.0.\n",
      "    mark_vertical_lines (bool, optional): Whether to mark vertical lines. Defaults to False.\n",
      "    mark_horizontal_lines (bool, optional): Whether to mark horizontal lines. Defaults to False.\n",
      "    line_spitter_strategy (str, optional): The line splitter strategy. Defaults to \"left-priority\".\n",
      "    lang (str, optional): The language of the document. Defaults to \"eng\".\n",
      "    tag (str, optional): The tag for the document. Defaults to \"default\".\n",
      "    filename (str, optional): The name of the file to store in reports. Defaults to \"\".\n",
      "    webhook_metadata (str, optional): The webhook metadata. This data will be passed to the webhook if\n",
      "        webhooks are used Defaults to \"\".\n",
      "    use_webhook (str, optional): Webhook name to call. Defaults to \"\". If not provided, then\n",
      "        no webhook will be called.\n",
      "    wait_for_completion (bool, optional): Whether to wait for the whisper operation to complete.\n",
      "        Defaults to False.\n",
      "    wait_timeout (int, optional): The number of seconds to wait for the whisper operation to complete.\n",
      "        Defaults to 180.\n",
      "    encoding (str): The character encoding to use for processing the text. Defaults to \"utf-8\".\n",
      "\n",
      "Returns:\n",
      "    dict: The response from the API as a dictionary.\n",
      "\n",
      "Raises:\n",
      "    LLMWhispererClientException: If the API request fails, it raises an exception with\n",
      "                                  the error message and status code returned by the API.\n",
      "\u001b[0;31mFile:\u001b[0m      /opt/miniconda3/envs/.venv/lib/python3.10/site-packages/unstract/llmwhisperer/client_v2.py\n",
      "\u001b[0;31mType:\u001b[0m      method"
     ]
    }
   ],
   "source": [
    "client.whisper?"
   ]
  },
  {
   "cell_type": "code",
   "execution_count": 11,
   "metadata": {},
   "outputs": [
    {
     "name": "stderr",
     "output_type": "stream",
     "text": [
      "2024-12-28 10:43:27,111 - unstract.llmwhisperer.client_v2 - DEBUG - whisper called\n",
      "2024-12-28 10:43:27,112 - unstract.llmwhisperer.client_v2 - DEBUG - api_url: https://llmwhisperer-api.us-central.unstract.com/api/v2/whisper\n",
      "2024-12-28 10:43:27,113 - unstract.llmwhisperer.client_v2 - DEBUG - params: {'mode': 'form', 'output_mode': 'layout_preserving', 'page_seperator': '<<<', 'pages_to_extract': '', 'median_filter_size': 0, 'gaussian_blur_radius': 0, 'line_splitter_tolerance': 0.4, 'horizontal_stretch_factor': 1.0, 'mark_vertical_lines': False, 'mark_horizontal_lines': False, 'line_spitter_strategy': 'left-priority', 'lang': 'eng', 'tag': 'default', 'filename': '', 'webhook_metadata': '', 'use_webhook': ''}\n",
      "2024-12-28 10:43:27,459 - unstract.llmwhisperer.client_v2 - DEBUG - whisper_status called\n",
      "2024-12-28 10:43:27,460 - unstract.llmwhisperer.client_v2 - DEBUG - url: https://llmwhisperer-api.us-central.unstract.com/api/v2/whisper-status\n",
      "2024-12-28 10:43:32,598 - unstract.llmwhisperer.client_v2 - DEBUG - whisper_status called\n",
      "2024-12-28 10:43:32,600 - unstract.llmwhisperer.client_v2 - DEBUG - url: https://llmwhisperer-api.us-central.unstract.com/api/v2/whisper-status\n",
      "2024-12-28 10:43:32,740 - unstract.llmwhisperer.client_v2 - DEBUG - Whisper-hash:aa9a0993|f4d7ae1a0527de92efafb9cc3f8bfd35 | STATUS: processed!\n",
      "2024-12-28 10:43:32,742 - unstract.llmwhisperer.client_v2 - DEBUG - whisper_retrieve called\n",
      "2024-12-28 10:43:32,742 - unstract.llmwhisperer.client_v2 - DEBUG - url: https://llmwhisperer-api.us-central.unstract.com/api/v2/whisper-retrieve\n"
     ]
    }
   ],
   "source": [
    "# Processing the PDF file using OCR mode\n",
    "whisper = client.whisper(\n",
    "        file_path=\"../raw-docs/IRS-1098e-form.pdf\",\n",
    "        wait_for_completion=True,\n",
    "        wait_timeout=200\n",
    "    )\n",
    "# extracted_text = result[\"extracted_text\"]\n",
    "# print(extracted_text)"
   ]
  },
  {
   "cell_type": "code",
   "execution_count": 15,
   "metadata": {},
   "outputs": [
    {
     "name": "stdout",
     "output_type": "stream",
     "text": [
      "\n",
      "\n",
      "                                                    [X] CORRECTED (if checked) \n",
      " RECIPIENT'S/LENDER'S name, street address, city or town, state or                           OMB No. 1545-1576 \n",
      " province, country, ZIP or foreign postal code, and telephone number \n",
      "                                                                                                                                Student \n",
      " Simon Williams \n",
      " 134, MarketView Avenue                                                                       2024                     Loan Interest \n",
      "Florida \n",
      "                                                                                                                            Statement \n",
      " FL \n",
      "(545) 533-1234                                                                                Form 1098-E \n",
      " RECIPIENT'S TIN                 BORROWER'S TIN                   1 Student loan interest received by lender                      Copy B \n",
      "          273-43-4323                      403-433-433           $                                                3200      For Borrower \n",
      " BORROWER'S name \n",
      "                                                                                                                           This is important tax \n",
      "Jack Benny                                                                                                              information and is being \n",
      "                                                                                                                         furnished to the IRS. If \n",
      "                                                                                                                       you are required to file a \n",
      " Street address (including apt. no.)                                                                                       return, a negligence \n",
      "                                                                                                                              penalty or other \n",
      "893, Avenue express street                                                                                                    sanction may be \n",
      "                                                                                                                         imposed on you if the \n",
      " City or town, state or province, country, and ZIP or foreign postal code                                               IRS determines that an \n",
      " Florida FL                                                                                                               underpayment of tax \n",
      "                                                                                                                           results because you \n",
      " Account number (see instructions)                                2 If checked, box 1 does not include loan origination overstated a deduction \n",
      "                                                                    fees and/or capitalized interest for loans made before for student loan interest. \n",
      "                            89493322                                September 1, 2004                              [X] \n",
      "Form 1098-E                   (keep for your records)               www.irs.gov/Form1098E     Department of the Treasury - Internal Revenue Service \n",
      "<<<\f\n"
     ]
    }
   ],
   "source": [
    "extracted_text = whisper['extraction']['result_text']\n",
    "print(extracted_text)"
   ]
  },
  {
   "cell_type": "code",
   "execution_count": 16,
   "metadata": {},
   "outputs": [],
   "source": [
    "from pydantic import BaseModel, Field\n",
    "from typing import Optional\n",
    "\n",
    "class RecipientInfo(BaseModel):\n",
    "    name: str = Field(description=\"RECIPIENT'S/LENDER'S name\")\n",
    "    street_address: str = Field(description=\"Street address\")\n",
    "    city: str = Field(description=\"City or town\")\n",
    "    state: str = Field(description=\"State or province\")\n",
    "    country: Optional[str] = Field(description=\"Country\", default=\"United States\")\n",
    "    zip_code: Optional[str] = Field(description=\"ZIP or foreign postal code\")\n",
    "    phone_number: str = Field(description=\"Telephone number\")\n",
    "\n",
    "class BorrowerInfo(BaseModel):\n",
    "    name: str = Field(description=\"BORROWER'S name\")\n",
    "    street_address: str = Field(description=\"Street address (including apt. no.)\")\n",
    "    city: Optional[str] = Field(description=\"City or town\")\n",
    "    state: Optional[str] = Field(description=\"State or province\")\n",
    "    country: Optional[str] = Field(description=\"Country\")\n",
    "    zip_code: Optional[str] = Field(description=\"ZIP or foreign postal code\")\n",
    "\n",
    "class Form1098E(BaseModel):\n",
    "    recipient: RecipientInfo = Field(description=\"Recipient/Lender information\")\n",
    "    recipient_tin: str = Field(description=\"RECIPIENT'S TIN\")\n",
    "    borrower_tin: Optional[str] = Field(description=\"BORROWER'S TIN\")\n",
    "    borrower: BorrowerInfo = Field(description=\"Borrower information\")\n",
    "    account_number: str = Field(description=\"Account number (see instructions)\")\n",
    "    student_loan_interest: Optional[float] = Field(description=\"Student loan interest received by lender\")\n",
    "\n"
   ]
  },
  {
   "cell_type": "code",
   "execution_count": 17,
   "metadata": {},
   "outputs": [],
   "source": [
    "from langchain.prompts import SystemMessagePromptTemplate, HumanMessagePromptTemplate, ChatPromptTemplate\n",
    "from langchain_openai import ChatOpenAI\n",
    "from langchain.output_parsers import PydanticOutputParser\n",
    "\n",
    "def compile_template_and_get_llm_response(preamble, extracted_text, pydantic_object):\n",
    "    postamble = \"Do not include any explanation in the reply. Only include the extracted information in the reply.\"\n",
    "    system_template = \"{preamble}\"\n",
    "    system_message_prompt = SystemMessagePromptTemplate.from_template(system_template)\n",
    "    human_template = \"{format_instructions}\\n\\n{extracted_text}\\n\\n{postamble}\"\n",
    "    human_message_prompt = HumanMessagePromptTemplate.from_template(human_template)\n",
    "\n",
    "    parser = PydanticOutputParser(pydantic_object=pydantic_object)\n",
    "    chat_prompt = ChatPromptTemplate.from_messages([system_message_prompt, human_message_prompt])\n",
    "    request = chat_prompt.format_prompt(preamble=preamble,\n",
    "                                        format_instructions=parser.get_format_instructions(),\n",
    "                                        extracted_text=extracted_text,\n",
    "                                        postamble=postamble).to_messages()\n",
    "    chat = ChatOpenAI()\n",
    "    response = chat.invoke(request, temperature=0.0)\n",
    "    print(f\"Response from LLM:\\n{response.content}\")\n",
    "    return response.content\n",
    "\n",
    "\n",
    "def extract_irs_1098e_from_text(extracted_text):\n",
    "    preamble = (\"You're seeing the information from an IRS 1098-E form. \"\n",
    "                \"Your job is to accurately extract the recipient's information, borrower's information, \"\n",
    "                \"TINs, account number, and student loan interest amount if available. \"\n",
    "                \"Ensure all fields are filled with the available information.\")\n",
    "    return compile_template_and_get_llm_response(preamble, extracted_text, Form1098E)"
   ]
  },
  {
   "cell_type": "code",
   "execution_count": 18,
   "metadata": {},
   "outputs": [
    {
     "name": "stdout",
     "output_type": "stream",
     "text": [
      "Response from LLM:\n",
      "{\n",
      "    \"recipient\": {\n",
      "        \"name\": \"Simon Williams\",\n",
      "        \"street_address\": \"134, MarketView Avenue\",\n",
      "        \"city\": \"Florida\",\n",
      "        \"state\": \"FL\",\n",
      "        \"country\": null,\n",
      "        \"zip_code\": \"2024\",\n",
      "        \"phone_number\": \"(545) 533-1234\"\n",
      "    },\n",
      "    \"recipient_tin\": \"273-43-4323\",\n",
      "    \"borrower_tin\": \"403-433-433\",\n",
      "    \"borrower\": {\n",
      "        \"name\": \"Jack Benny\",\n",
      "        \"street_address\": \"893, Avenue express street\",\n",
      "        \"city\": \"Florida\",\n",
      "        \"state\": \"FL\",\n",
      "        \"country\": null,\n",
      "        \"zip_code\": \"89493322\"\n",
      "    },\n",
      "    \"account_number\": \"3200\",\n",
      "    \"student_loan_interest\": 3200\n",
      "}\n"
     ]
    }
   ],
   "source": [
    "extracted_irs_text = extract_irs_1098e_from_text(extracted_text)"
   ]
  },
  {
   "cell_type": "code",
   "execution_count": 19,
   "metadata": {},
   "outputs": [
    {
     "name": "stdout",
     "output_type": "stream",
     "text": [
      "Data written to ../saved-docs/irs_1098e_extracted_data.json\n"
     ]
    }
   ],
   "source": [
    "import json\n",
    "import ast\n",
    "from datetime import date\n",
    "\n",
    "# saving the output as response\n",
    "response = extracted_irs_text  \n",
    "\n",
    "# Writing the output to a json file\n",
    "\n",
    "# Parse the string into a Python dictionary\n",
    "try:\n",
    "    parsed_data = ast.literal_eval(response)\n",
    "except (SyntaxError, ValueError):\n",
    "    \n",
    "    try:\n",
    "        parsed_data = json.loads(response)\n",
    "    except json.JSONDecodeError:\n",
    "        print(\"Error: Unable to parse the response string.\")\n",
    "        parsed_data = {}\n",
    "\n",
    "# Add any additional metadata if needed\n",
    "combined_data = {\n",
    "    \"document_type\": \"IRS-1098e-form\",\n",
    "    \"extraction_date\": str(date.today()),  # You might want to use the actual current date\n",
    "    \"extracted_data\": parsed_data\n",
    "}\n",
    "\n",
    "# Write to a JSON file\n",
    "output_file = os.path.join('../saved-docs', 'irs_1098e_extracted_data.json')\n",
    "with open(output_file, 'w') as f:\n",
    "    json.dump(combined_data, f, indent=2)\n",
    "\n",
    "print(f\"Data written to {output_file}\")"
   ]
  },
  {
   "cell_type": "code",
   "execution_count": 20,
   "metadata": {},
   "outputs": [
    {
     "data": {
      "text/plain": [
       "\"The Borrower's city is Florida.\""
      ]
     },
     "execution_count": 20,
     "metadata": {},
     "output_type": "execute_result"
    }
   ],
   "source": [
    "# Chain creation and LLM generation\n",
    "\n",
    "from langchain.vectorstores import FAISS\n",
    "from langchain_openai import OpenAIEmbeddings\n",
    "from langchain.schema import Document\n",
    "from langchain import hub\n",
    "from langchain.chains import create_retrieval_chain\n",
    "from langchain.chains.combine_documents import create_stuff_documents_chain\n",
    "\n",
    "# Load the JSON file\n",
    "with open(\"../saved-docs/irs_1098e_extracted_data.json\", 'r') as f:\n",
    "    data = json.load(f)\n",
    "\n",
    "# Create documents\n",
    "documents = [\n",
    "    Document(\n",
    "        page_content=json.dumps(data['extracted_data']),\n",
    "        metadata={\n",
    "            \"document_type\": data['document_type'],\n",
    "            \"extraction_date\": data['extraction_date']\n",
    "        }\n",
    "    )\n",
    "]\n",
    "\n",
    "# Create the vector store\n",
    "embeddings = OpenAIEmbeddings()\n",
    "vectorstore = FAISS.from_documents(documents, embeddings)\n",
    "\n",
    "# Create the retriever\n",
    "retriever = vectorstore.as_retriever()\n",
    "\n",
    "# Load the openai chat model\n",
    "llm = ChatOpenAI(model_name=\"gpt-3.5-turbo\",temperature=0)\n",
    "\n",
    "# QA prompt\n",
    "retrieval_qa_chat_prompt = hub.pull(\"langchain-ai/retrieval-qa-chat\")\n",
    "\n",
    "combine_docs_chain = create_stuff_documents_chain(\n",
    "    llm, retrieval_qa_chat_prompt\n",
    ")\n",
    "retrieval_chain = create_retrieval_chain(retriever, combine_docs_chain)\n",
    "\n",
    "# LLM output\n",
    "response = retrieval_chain.invoke({\"input\":\"What is the Borrower's city?\"})\n",
    "response['answer']\n"
   ]
  }
 ],
 "metadata": {
  "kernelspec": {
   "display_name": ".venv",
   "language": "python",
   "name": "python3"
  },
  "language_info": {
   "codemirror_mode": {
    "name": "ipython",
    "version": 3
   },
   "file_extension": ".py",
   "mimetype": "text/x-python",
   "name": "python",
   "nbconvert_exporter": "python",
   "pygments_lexer": "ipython3",
   "version": "3.10.14"
  }
 },
 "nbformat": 4,
 "nbformat_minor": 2
}
