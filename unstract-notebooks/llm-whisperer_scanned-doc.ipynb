{
 "cells": [
  {
   "cell_type": "code",
   "execution_count": 1,
   "metadata": {},
   "outputs": [
    {
     "name": "stderr",
     "output_type": "stream",
     "text": [
      "2024-12-28 10:48:10,640 - unstract.llmwhisperer.client_v2 - DEBUG - logging_level set to DEBUG\n",
      "2024-12-28 10:48:10,640 - unstract.llmwhisperer.client_v2 - DEBUG - base_url set to https://llmwhisperer-api.us-central.unstract.com/api/v2\n"
     ]
    }
   ],
   "source": [
    "from unstract.llmwhisperer import LLMWhispererClientV2\n",
    "import os\n",
    "from dotenv import load_dotenv\n",
    "\n",
    "# access the openai api and unstract llm whisperer key from .env file and map it to the current system\n",
    "os.environ['OPENAI_API_KEY']=os.getenv(\"openai_api_key\")\n",
    "UNSTRACT_API_KEY = os.getenv(\"unstract_api_key\")\n",
    "BASE_URL = os.getenv(\"BASE_URL\")\n",
    "\n",
    "client = LLMWhispererClientV2(api_key=UNSTRACT_API_KEY) # base_url=BASE_URL, api_key=UNSTRACT_API_KEY"
   ]
  },
  {
   "cell_type": "code",
   "execution_count": 2,
   "metadata": {},
   "outputs": [
    {
     "name": "stderr",
     "output_type": "stream",
     "text": [
      "2024-12-28 10:49:12,874 - unstract.llmwhisperer.client_v2 - DEBUG - whisper called\n",
      "2024-12-28 10:49:12,875 - unstract.llmwhisperer.client_v2 - DEBUG - api_url: https://llmwhisperer-api.us-central.unstract.com/api/v2/whisper\n",
      "2024-12-28 10:49:12,875 - unstract.llmwhisperer.client_v2 - DEBUG - params: {'mode': 'form', 'output_mode': 'layout_preserving', 'page_seperator': '<<<', 'pages_to_extract': '', 'median_filter_size': 0, 'gaussian_blur_radius': 0, 'line_splitter_tolerance': 0.4, 'horizontal_stretch_factor': 1.0, 'mark_vertical_lines': False, 'mark_horizontal_lines': False, 'line_spitter_strategy': 'left-priority', 'lang': 'eng', 'tag': 'default', 'filename': '', 'webhook_metadata': '', 'use_webhook': ''}\n",
      "2024-12-28 10:49:13,110 - unstract.llmwhisperer.client_v2 - DEBUG - whisper_status called\n",
      "2024-12-28 10:49:13,110 - unstract.llmwhisperer.client_v2 - DEBUG - url: https://llmwhisperer-api.us-central.unstract.com/api/v2/whisper-status\n",
      "2024-12-28 10:49:18,238 - unstract.llmwhisperer.client_v2 - DEBUG - whisper_status called\n",
      "2024-12-28 10:49:18,240 - unstract.llmwhisperer.client_v2 - DEBUG - url: https://llmwhisperer-api.us-central.unstract.com/api/v2/whisper-status\n",
      "2024-12-28 10:49:18,395 - unstract.llmwhisperer.client_v2 - DEBUG - Whisper-hash:f3930427|164a6c975041cb97bb5b28ca5140f342 | STATUS: processed!\n",
      "2024-12-28 10:49:18,397 - unstract.llmwhisperer.client_v2 - DEBUG - whisper_retrieve called\n",
      "2024-12-28 10:49:18,398 - unstract.llmwhisperer.client_v2 - DEBUG - url: https://llmwhisperer-api.us-central.unstract.com/api/v2/whisper-retrieve\n"
     ]
    }
   ],
   "source": [
    "# Processing the PDF file using OCR mode\n",
    "whisper = client.whisper(\n",
    "        file_path=\"../raw-docs/scanned-invoice.pdf\",\n",
    "        wait_for_completion=True,\n",
    "        wait_timeout=200\n",
    "    )"
   ]
  },
  {
   "cell_type": "code",
   "execution_count": 3,
   "metadata": {},
   "outputs": [
    {
     "name": "stdout",
     "output_type": "stream",
     "text": [
      "\n",
      "\n",
      "                                                           -. \n",
      "\n",
      "                                                        O=O         American Railcorp \n",
      "\n",
      "     Nº      78493                                     Invoice \n",
      "URGENT \n",
      "\n",
      "                                                       Issued                   Due \n",
      "                                                       01 Jan, 2022             07 Jan, 2022 \n",
      "\n",
      "                                                       From                     To \n",
      "                                                       America Rall INC         Simon Wilson \n",
      "                                                       123 Godly St.            1234, Bouleward avenue st \n",
      "                                                       Internet, 68493          Miami, 67833 \n",
      "                                                       United States            United States \n",
      "\n",
      "     Item                                              Cost             Qty                       Total \n",
      "\n",
      "     Travel expenses                                   $2,000           1                       $2,000 \n",
      "     20% initial fee \n",
      "     Logistics expenses                                $5,000           1                       $5,000 \n",
      "     Weekly Rate \n",
      "\n",
      "     Allowance expenses                                $1000            1                       $1000 \n",
      "     Weekly Rate \n",
      "\n",
      "                                                       Subtotal                                 $8,000 \n",
      "                                                       Discount (20%)                           $1,400 \n",
      "\n",
      "                                                       Total                                    $6,600 \n",
      "\n",
      "                                                Misc costs                                 $1,100 \n",
      "\n",
      "                                                 Total                                     $7,700 \n",
      "\n",
      "                                                       IBAN                 ABCD EFGH 0000 0000 0000 \n",
      "\n",
      "                                                       This invoice is to be paid by wire transfer only, unless \n",
      "                                                       agreed otherwise and must be paid before the date \n",
      "                                                       due specified above. \n",
      "\n",
      "                                                       Thank you, \n",
      "                                                        Deakins \n",
      "<<<\f\n"
     ]
    }
   ],
   "source": [
    "extracted_text = whisper['extraction']['result_text']\n",
    "print(extracted_text)"
   ]
  },
  {
   "cell_type": "code",
   "execution_count": 4,
   "metadata": {},
   "outputs": [],
   "source": [
    "from pydantic import BaseModel, Field\n",
    "from typing import List, Optional\n",
    "from datetime import date\n",
    "\n",
    "class InvoiceItem(BaseModel):\n",
    "    item: str = Field(description=\"Description of the item\")\n",
    "    cost: float = Field(description=\"Cost per item\")\n",
    "    quantity: int = Field(description=\"Quantity of items\")\n",
    "    total: float = Field(description=\"Total cost for this item\")\n",
    "\n",
    "class Address(BaseModel):\n",
    "    name: str = Field(description=\"Name of the company or individual\")\n",
    "    street: str = Field(description=\"Street address\")\n",
    "    city_zip: str = Field(description=\"City and ZIP code\")\n",
    "    country: str = Field(description=\"Country\")\n",
    "\n",
    "class Invoice(BaseModel):\n",
    "    invoice_number: str = Field(description=\"Invoice number\")\n",
    "    issue_date: date = Field(description=\"Date the invoice was issued\")\n",
    "    due_date: date = Field(description=\"Date the invoice is due\")\n",
    "    from_address: Address = Field(description=\"Sender's address\")\n",
    "    to_address: Address = Field(description=\"Recipient's address\")\n",
    "    items: List[InvoiceItem] = Field(description=\"List of invoice items\")\n",
    "    subtotal: float = Field(description=\"Subtotal before discount\")\n",
    "    discount_percentage: float = Field(description=\"Discount percentage\")\n",
    "    discount_amount: float = Field(description=\"Discount amount\")\n",
    "    total_before_misc: float = Field(description=\"Total after discount\")\n",
    "    misc_costs: float = Field(description=\"Miscellaneous costs\")\n",
    "    total: float = Field(description=\"Final total including misc costs\")\n",
    "    iban: str = Field(description=\"IBAN for payment\")\n",
    "    notes: Optional[str] = Field(description=\"Additional notes on the invoice\")\n",
    "    signature: Optional[str] = Field(description=\"Signature or name of the issuer\")"
   ]
  },
  {
   "cell_type": "code",
   "execution_count": 5,
   "metadata": {},
   "outputs": [],
   "source": [
    "from langchain.prompts import SystemMessagePromptTemplate, HumanMessagePromptTemplate, ChatPromptTemplate\n",
    "from langchain_openai import ChatOpenAI\n",
    "from langchain.output_parsers import PydanticOutputParser\n",
    "\n",
    "def compile_template_and_get_llm_response(preamble, extracted_text, pydantic_object):\n",
    "    postamble = \"Do not include any explanation in the reply. Only include the extracted information in the reply.\"\n",
    "    system_template = \"{preamble}\"\n",
    "    system_message_prompt = SystemMessagePromptTemplate.from_template(system_template)\n",
    "    human_template = \"{format_instructions}\\n\\n{extracted_text}\\n\\n{postamble}\"\n",
    "    human_message_prompt = HumanMessagePromptTemplate.from_template(human_template)\n",
    "\n",
    "    parser = PydanticOutputParser(pydantic_object=pydantic_object)\n",
    "    chat_prompt = ChatPromptTemplate.from_messages([system_message_prompt, human_message_prompt])\n",
    "    request = chat_prompt.format_prompt(preamble=preamble,\n",
    "                                        format_instructions=parser.get_format_instructions(),\n",
    "                                        extracted_text=extracted_text,\n",
    "                                        postamble=postamble).to_messages()\n",
    "    chat = ChatOpenAI()\n",
    "    response = chat.invoke(request, temperature=0.0)\n",
    "    print(f\"Response from LLM:\\n{response.content}\")\n",
    "    return response.content\n",
    "\n",
    "def extract_invoice_from_text(extracted_text):\n",
    "    preamble = (\"You're seeing the information from a scanned invoice. \"\n",
    "                \"Your job is to accurately extract the following information: \"\n",
    "                \"invoice number, issue date, due date, sender's address, recipient's address, \"\n",
    "                \"invoice items (including description, cost, quantity, and total for each), \"\n",
    "                \"subtotal, discount percentage and amount, total before miscellaneous costs, \"\n",
    "                \"miscellaneous costs, final total, IBAN, and any additional notes or signature. \"\n",
    "                \"Ensure all fields are filled with the available information. \"\n",
    "                \"For dates, use the format YYYY-MM-DD. \"\n",
    "                \"For currency values, only include the numeric amount without the currency symbol.\")\n",
    "    \n",
    "    return compile_template_and_get_llm_response(preamble, extracted_text, Invoice)"
   ]
  },
  {
   "cell_type": "code",
   "execution_count": 6,
   "metadata": {},
   "outputs": [
    {
     "name": "stdout",
     "output_type": "stream",
     "text": [
      "Response from LLM:\n",
      "{\n",
      "\t\"Invoice Number\": \"78493\",\n",
      "\t\"Issue Date\": \"2022-01-01\",\n",
      "\t\"Due Date\": \"2022-01-07\",\n",
      "\t\"From Address\": {\n",
      "\t\t\"Name\": \"America Rall INC\",\n",
      "\t\t\"Street\": \"123 Godly St.\",\n",
      "\t\t\"City Zip\": \"Internet, 68493\",\n",
      "\t\t\"Country\": \"United States\"\n",
      "\t},\n",
      "\t\"To Address\": {\n",
      "\t\t\"Name\": \"Simon Wilson\",\n",
      "\t\t\"Street\": \"1234, Bouleward avenue st\",\n",
      "\t\t\"City Zip\": \"Miami, 67833\",\n",
      "\t\t\"Country\": \"United States\"\n",
      "\t},\n",
      "\t\"Items\": [{\n",
      "\t\t\t\"Item\": \"Travel expenses\",\n",
      "\t\t\t\"Cost\": 2000,\n",
      "\t\t\t\"Quantity\": 1,\n",
      "\t\t\t\"Total\": 2000\n",
      "\t\t},\n",
      "\t\t{\n",
      "\t\t\t\"Item\": \"Logistics expenses\",\n",
      "\t\t\t\"Cost\": 5000,\n",
      "\t\t\t\"Quantity\": 1,\n",
      "\t\t\t\"Total\": 5000\n",
      "\t\t},\n",
      "\t\t{\n",
      "\t\t\t\"Item\": \"Allowance expenses\",\n",
      "\t\t\t\"Cost\": 1000,\n",
      "\t\t\t\"Quantity\": 1,\n",
      "\t\t\t\"Total\": 1000\n",
      "\t\t}\n",
      "\t],\n",
      "\t\"Subtotal\": 8000,\n",
      "\t\"Discount Percentage\": 20,\n",
      "\t\"Discount Amount\": 1400,\n",
      "\t\"Total Before Misc\": 6600,\n",
      "\t\"Misc Costs\": 1100,\n",
      "\t\"Total\": 7700,\n",
      "\t\"Iban\": \"ABCD EFGH 0000 0000 0000\",\n",
      "\t\"Notes\": \"This invoice is to be paid by wire transfer only, unless agreed otherwise and must be paid before the date due specified above.\",\n",
      "\t\"Signature\": \"Deakins\"\n",
      "}\n"
     ]
    }
   ],
   "source": [
    "invoice_text = extract_invoice_from_text(extracted_text)"
   ]
  },
  {
   "cell_type": "code",
   "execution_count": 7,
   "metadata": {},
   "outputs": [
    {
     "name": "stdout",
     "output_type": "stream",
     "text": [
      "Data written to ../saved-docs/invoice_extracted_data.json\n"
     ]
    }
   ],
   "source": [
    "import json\n",
    "import ast\n",
    "\n",
    "\n",
    "response = invoice_text  \n",
    "\n",
    "# Parse the string into a Python dictionary\n",
    "try:\n",
    "    parsed_data = ast.literal_eval(response)\n",
    "except (SyntaxError, ValueError):\n",
    "    # If ast.literal_eval fails, try json.loads\n",
    "    try:\n",
    "        parsed_data = json.loads(response)\n",
    "    except json.JSONDecodeError:\n",
    "        print(\"Error: Unable to parse the response string.\")\n",
    "        parsed_data = {}\n",
    "\n",
    "# Add any additional metadata if needed\n",
    "combined_data = {\n",
    "    \"document_type\": \"scanned-invoice\",\n",
    "    \"extraction_date\": str(date.today()),  # You might want to use the actual current date\n",
    "    \"extracted_data\": parsed_data\n",
    "}\n",
    "\n",
    "# Write to a JSON file\n",
    "output_file = os.path.join('../saved-docs', 'invoice_extracted_data.json')\n",
    "with open(output_file, 'w') as f:\n",
    "    json.dump(combined_data, f, indent=2)\n",
    "\n",
    "print(f\"Data written to {output_file}\")"
   ]
  },
  {
   "cell_type": "code",
   "execution_count": 8,
   "metadata": {},
   "outputs": [
    {
     "data": {
      "text/plain": [
       "'The IBAN number is \"ABCD EFGH 0000 0000 0000\".'"
      ]
     },
     "execution_count": 8,
     "metadata": {},
     "output_type": "execute_result"
    }
   ],
   "source": [
    "from langchain.vectorstores import FAISS\n",
    "from langchain_openai import OpenAIEmbeddings\n",
    "from langchain.schema import Document\n",
    "from langchain import hub\n",
    "from langchain.chains import create_retrieval_chain\n",
    "from langchain.chains.combine_documents import create_stuff_documents_chain\n",
    "\n",
    "# Load the JSON file\n",
    "with open(\"../saved-docs/invoice_extracted_data.json\", 'r') as f:\n",
    "    data = json.load(f)\n",
    "\n",
    "# Create documents\n",
    "documents = [\n",
    "    Document(\n",
    "        page_content=json.dumps(data['extracted_data']),\n",
    "        metadata={\n",
    "            \"document_type\": data['document_type'],\n",
    "            \"extraction_date\": data['extraction_date']\n",
    "        }\n",
    "    )\n",
    "]\n",
    "\n",
    "# Create the vector store\n",
    "embeddings = OpenAIEmbeddings()\n",
    "vectorstore = FAISS.from_documents(documents, embeddings)\n",
    "\n",
    "# Create the retriever\n",
    "retriever = vectorstore.as_retriever()\n",
    "\n",
    "# Load the openai chat model\n",
    "llm = ChatOpenAI(model_name=\"gpt-3.5-turbo\",temperature=0)\n",
    "\n",
    "# QA prompt\n",
    "retrieval_qa_chat_prompt = hub.pull(\"langchain-ai/retrieval-qa-chat\")\n",
    "\n",
    "combine_docs_chain = create_stuff_documents_chain(\n",
    "    llm, retrieval_qa_chat_prompt\n",
    ")\n",
    "retrieval_chain = create_retrieval_chain(retriever, combine_docs_chain)\n",
    "\n",
    "response = retrieval_chain.invoke({\"input\":\"What is the IBAN number?\"})\n",
    "response['answer']\n"
   ]
  }
 ],
 "metadata": {
  "kernelspec": {
   "display_name": ".venv",
   "language": "python",
   "name": "python3"
  },
  "language_info": {
   "codemirror_mode": {
    "name": "ipython",
    "version": 3
   },
   "file_extension": ".py",
   "mimetype": "text/x-python",
   "name": "python",
   "nbconvert_exporter": "python",
   "pygments_lexer": "ipython3",
   "version": "3.10.14"
  }
 },
 "nbformat": 4,
 "nbformat_minor": 2
}
