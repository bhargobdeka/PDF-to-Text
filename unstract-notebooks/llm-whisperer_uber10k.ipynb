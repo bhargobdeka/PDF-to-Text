{
 "cells": [
  {
   "cell_type": "code",
   "execution_count": 2,
   "metadata": {},
   "outputs": [
    {
     "name": "stderr",
     "output_type": "stream",
     "text": [
      "2024-12-28 11:04:36,404 - unstract.llmwhisperer.client_v2 - DEBUG - logging_level set to DEBUG\n",
      "2024-12-28 11:04:36,405 - unstract.llmwhisperer.client_v2 - DEBUG - base_url set to https://llmwhisperer-api.us-central.unstract.com/api/v2\n"
     ]
    }
   ],
   "source": [
    "from unstract.llmwhisperer import LLMWhispererClientV2\n",
    "import os\n",
    "from dotenv import load_dotenv\n",
    "\n",
    "# access the openai api and unstract llm whisperer key from .env file and map it to the current system\n",
    "os.environ['OPENAI_API_KEY']=os.getenv(\"openai_api_key\")\n",
    "UNSTRACT_API_KEY = os.getenv(\"unstract_api_key\")\n",
    "BASE_URL = os.getenv(\"BASE_URL\")\n",
    "\n",
    "client = LLMWhispererClientV2(api_key=UNSTRACT_API_KEY) "
   ]
  },
  {
   "cell_type": "code",
   "execution_count": 3,
   "metadata": {},
   "outputs": [
    {
     "name": "stderr",
     "output_type": "stream",
     "text": [
      "2024-12-28 11:10:30,549 - unstract.llmwhisperer.client_v2 - DEBUG - whisper called\n",
      "2024-12-28 11:10:30,550 - unstract.llmwhisperer.client_v2 - DEBUG - api_url: https://llmwhisperer-api.us-central.unstract.com/api/v2/whisper\n",
      "2024-12-28 11:10:30,550 - unstract.llmwhisperer.client_v2 - DEBUG - params: {'mode': 'form', 'output_mode': 'layout_preserving', 'page_seperator': '<<<', 'pages_to_extract': '', 'median_filter_size': 0, 'gaussian_blur_radius': 0, 'line_splitter_tolerance': 0.4, 'horizontal_stretch_factor': 1.0, 'mark_vertical_lines': False, 'mark_horizontal_lines': False, 'line_spitter_strategy': 'left-priority', 'lang': 'eng', 'tag': 'default', 'filename': '', 'webhook_metadata': '', 'use_webhook': ''}\n",
      "2024-12-28 11:10:31,022 - unstract.llmwhisperer.client_v2 - DEBUG - whisper_status called\n",
      "2024-12-28 11:10:31,023 - unstract.llmwhisperer.client_v2 - DEBUG - url: https://llmwhisperer-api.us-central.unstract.com/api/v2/whisper-status\n",
      "2024-12-28 11:10:36,147 - unstract.llmwhisperer.client_v2 - DEBUG - whisper_status called\n",
      "2024-12-28 11:10:36,149 - unstract.llmwhisperer.client_v2 - DEBUG - url: https://llmwhisperer-api.us-central.unstract.com/api/v2/whisper-status\n",
      "2024-12-28 11:10:36,282 - unstract.llmwhisperer.client_v2 - DEBUG - Whisper-hash:d7cea191|9a31f273a9435a9e714450227e62f81f | STATUS: processed!\n",
      "2024-12-28 11:10:36,283 - unstract.llmwhisperer.client_v2 - DEBUG - whisper_retrieve called\n",
      "2024-12-28 11:10:36,284 - unstract.llmwhisperer.client_v2 - DEBUG - url: https://llmwhisperer-api.us-central.unstract.com/api/v2/whisper-retrieve\n"
     ]
    }
   ],
   "source": [
    "# Processing the PDF file using OCR mode\n",
    "whisper = client.whisper(\n",
    "        file_path=\"../raw-docs/uber-10k-report.pdf\",\n",
    "        wait_for_completion=True,\n",
    "        wait_timeout=200\n",
    "    )"
   ]
  },
  {
   "cell_type": "code",
   "execution_count": 4,
   "metadata": {},
   "outputs": [
    {
     "name": "stdout",
     "output_type": "stream",
     "text": [
      "\n",
      "\n",
      "     Adjusted EBITDA \n",
      "     We define Adjusted EBITDA as net income (loss), excluding (i) income (loss) from discontinued operations, net of income taxes, (ii) net income (loss) \n",
      " attributable to non-controlling interests, net of tax, (iii) provision for (benefit from) income taxes, (iv) income (loss) from equity method investments, (v) interest \n",
      " expense, (vi) other income (expense), net, (vii) depreciation and amortization, (viii) stock-based compensation expense, (ix) certain legal, tax, and regulatory \n",
      " reserve changes and settlements, (x) goodwill and asset impairments/loss on sale of assets, (xi) acquisition, financing and divestitures related expenses, (xii) \n",
      " restructuring and related charges and (xiii) other items not indicative of our ongoing operating performance. \n",
      "     We have included Adjusted EBITDA in this Annual Report on Form 10-K because it is a key measure used by our management team to evaluate our operating \n",
      "performance, generate future operating plans, and make strategic decisions, including those relating to operating expenses. Accordingly, we believe that Adjusted \n",
      " EBITDA provides useful information to investors and others in understanding and evaluating our operating results in the same manner as our management team \n",
      " and board of directors. In addition, it provides a useful measure for period-to-period comparisons of our business, as it removes the effect of certain non-cash \n",
      " expenses and certain variable charges. \n",
      "     Legal, tax, and regulatory reserve changes and settlements \n",
      "     Legal, tax, and regulatory reserve changes and settlements are primarily related to certain significant legal proceedings or governmental investigations related \n",
      " to worker classification definitions, or tax agencies challenging our non-income tax positions. These matters have limited precedent, cover extended historical \n",
      " periods and are unpredictable in both magnitude and timing, therefore are distinct from normal, recurring legal, tax and regulatory matters and related expenses \n",
      " incurred in our ongoing operating performance. \n",
      "     Limitations of Non-GAAP Financial Measures and Adjusted EBITDA Reconciliation \n",
      "     Adjusted EBITDA has limitations as a financial measure, should be considered as supplemental in nature, and is not meant as a substitute for the related \n",
      " financial information prepared in accordance with GAAP. These limitations include the following: \n",
      "      · Adjusted EBITDA excludes certain recurring, non-cash charges, such as depreciation of property and equipment and amortization of intangible assets, and \n",
      "         although these are non-cash charges, the assets being depreciated and amortized may have to be replaced in the future, and Adjusted EBITDA does not \n",
      "         reflect all cash capital expenditure requirements for such replacements or for new capital expenditure requirements; \n",
      "      · Adjusted EBITDA excludes stock-based compensation expense, which has been, and will continue to be for the foreseeable future, a significant recurring \n",
      "         expense in our business and an important part of our compensation strategy; \n",
      "      · Adjusted EBITDA excludes certain restructuring and related charges, part of which may be settled in cash; \n",
      "      · Adjusted EBITDA excludes other items not indicative of our ongoing operating performance; \n",
      "      · Adjusted EBITDA does not reflect period-to-period changes in taxes, income tax expense or the cash necessary to pay income taxes; \n",
      "      · Adjusted EBITDA does not reflect the components of other income (expense), net, which primarily includes: interest income; foreign currency exchange \n",
      "         gains (losses), net; gain (loss) on business divestitures, net; unrealized gain (loss) on debt and equity securities, net; and impairment of debt and equity \n",
      "         securities; and \n",
      "      · Adjusted EBITDA excludes certain legal, tax, and regulatory reserve changes and settlements that may reduce cash available to us. \n",
      "\n",
      "                                                                            61 \n",
      "<<<\f\n",
      "\n",
      "     The following table presents a reconciliation of net income (loss) attributable to Uber Technologies, Inc., the most directly comparable GAAP financial \n",
      "measure, to Adjusted EBITDA for each of the periods indicated: \n",
      "                                                                                                                            Year Ended December 31, \n",
      " (In millions)                                                                                                             2022               2023 \n",
      "\n",
      " Adjusted EBITDA reconciliation: \n",
      " Net income (loss) attributable to Uber Technologies, Inc.                                                          $         (9,141) $            1,887 \n",
      " Add (deduct): \n",
      "   Net income attributable to non-controlling interests, net of tax                                                                 3                269 \n",
      "    Provision for (benefit from) income taxes                                                                                   (181)                213 \n",
      "   Income from equity method investments                                                                                        (107)                (48) \n",
      "   Interest expense                                                                                                              565                 633 \n",
      "    Other (income) expense, net                                                                                                 7,029             (1,844) \n",
      "   Depreciation and amortization                                                                                                 947                 823 \n",
      "    Stock-based compensation expense                                                                                            1,793              1,935 \n",
      "   Legal, tax, and regulatory reserve changes and settlements                                                                    732                   9 \n",
      "    Goodwill and asset impairments/loss on sale of assets, net                                                                     25                 84 \n",
      "    Acquisition, financing and divestitures related expenses                                                                       46                 36 \n",
      "    Accelerated lease costs related to cease-use of ROU assets                                                                      6 \n",
      "    COVID-19 response initiatives                                                                                                   1 \n",
      "    Loss on lease arrangement, net                                                                                                  7                  4 \n",
      "    Restructuring and related charges                                                                                               2                 51 \n",
      "    Mass arbitration fees, net                                                                                                   (14) \n",
      " Adjusted EBITDA                                                                                                    $           1,713 $            4,052 \n",
      "\n",
      "     Constant Currency \n",
      "     We compare the percent change in our current period results from the corresponding prior period using constant currency disclosure. We present constant \n",
      "currency growth rate information to provide a framework for assessing how our underlying revenue performed excluding the effect of foreign currency rate \n",
      "fluctuations. We calculate constant currency by translating our current period financial results using the corresponding prior period's monthly exchange rates for \n",
      "our transacted currencies other than the U.S. dollar. \n",
      "     Free Cash Flow \n",
      "     We define free cash flow as net cash flows from operating activities less capital expenditures. The following table presents a reconciliation of free cash flow to \n",
      "the most directly comparable GAAP financial measure for each of the periods indicated: \n",
      "                                                                                                                             Year Ended December 31, \n",
      " (In millions)                                                                                                             2022                2023 \n",
      " Free cash flow reconciliation: \n",
      "     Net cash provided by operating activities \n",
      "                                                                                                                     $            642   $          3,585 \n",
      "  Purchases of property and equipment                                                                                            (252)              (223) \n",
      " Free cash flow                                                                                                      $            390 $            3,362 \n",
      "\n",
      " Liquidity and Capital Resources \n",
      "                                                                                                                           Year Ended December 31, \n",
      " (In millions)                                                                                                           2022                 2023 \n",
      " Net cash provided by operating activities                                                                       $              642   $            3,585 \n",
      " Net cash used in investing activities                                                                                       (1,637)              (3,226) \n",
      " Net cash provided by (used in) financing activities                                                                             15                  (95) \n",
      "\n",
      "     Operating Activities \n",
      "     Net cash provided by operating activities was $3.6 billion for the year ended December 31, 2023, primarily consisting of $2.2 billion of net income including \n",
      "non-controlling interests, adjusted for certain non-cash items, which primarily included $1.9 billion of stock-based compensation expense, $1.6 billion of \n",
      " unrealized gains from equity securities, $823 million of depreciation and \n",
      "\n",
      "                                                                            62 \n",
      "<<<\f\n"
     ]
    }
   ],
   "source": [
    "extracted_text = whisper['extraction']['result_text']\n",
    "print(extracted_text)"
   ]
  },
  {
   "cell_type": "code",
   "execution_count": 5,
   "metadata": {},
   "outputs": [],
   "source": [
    "from pydantic import BaseModel, Field\n",
    "from typing import List\n",
    "\n",
    "class AdjustedEBITDAItem(BaseModel):\n",
    "    item: str = Field(description=\"Name of the item in the Adjusted EBITDA reconciliation\")\n",
    "    value_2022: float = Field(description=\"Value for the year 2022 in millions of dollars\")\n",
    "    value_2023: float = Field(description=\"Value for the year 2023 in millions of dollars\")\n",
    "\n",
    "class AdjustedEBITDAReconciliation(BaseModel):\n",
    "    items: List[AdjustedEBITDAItem] = Field(description=\"List of items in the Adjusted EBITDA reconciliation\")\n",
    "    adjusted_ebitda_2022: float = Field(description=\"Final Adjusted EBITDA value for 2022 in millions of dollars\")\n",
    "    adjusted_ebitda_2023: float = Field(description=\"Final Adjusted EBITDA value for 2023 in millions of dollars\")"
   ]
  },
  {
   "cell_type": "code",
   "execution_count": 9,
   "metadata": {},
   "outputs": [],
   "source": [
    "import json\n",
    "from langchain.prompts import SystemMessagePromptTemplate, HumanMessagePromptTemplate, ChatPromptTemplate\n",
    "from langchain_openai import ChatOpenAI\n",
    "from langchain.output_parsers import PydanticOutputParser\n",
    "\n",
    "\n",
    "def compile_template_and_get_llm_response(preamble, extracted_text, pydantic_object):\n",
    "    postamble = \"Do not include any explanation in the reply. Only include the extracted information in the reply.\"\n",
    "    system_template = \"{preamble}\"\n",
    "    system_message_prompt = SystemMessagePromptTemplate.from_template(system_template)\n",
    "    human_template = \"{format_instructions}\\n\\n{extracted_text}\\n\\n{postamble}\"\n",
    "    human_message_prompt = HumanMessagePromptTemplate.from_template(human_template)\n",
    "\n",
    "    parser = PydanticOutputParser(pydantic_object=pydantic_object)\n",
    "    chat_prompt = ChatPromptTemplate.from_messages([system_message_prompt, human_message_prompt])\n",
    "    request = chat_prompt.format_prompt(preamble=preamble,\n",
    "                                        format_instructions=parser.get_format_instructions(),\n",
    "                                        extracted_text=extracted_text,\n",
    "                                        postamble=postamble).to_messages()\n",
    "    chat = ChatOpenAI()\n",
    "    response = chat.invoke(request, temperature=0.0)\n",
    "    \n",
    "    try:\n",
    "        # Parse the JSON content\n",
    "        parsed_response = json.loads(response.content)\n",
    "        # Convert back to a formatted JSON string\n",
    "        formatted_json = json.dumps(parsed_response, indent=4)\n",
    "        return formatted_json\n",
    "    except json.JSONDecodeError:\n",
    "        print(\"Error: Unable to parse JSON response\")\n",
    "        return response.content"
   ]
  },
  {
   "cell_type": "code",
   "execution_count": 10,
   "metadata": {},
   "outputs": [],
   "source": [
    "def extract_adjusted_ebitda_from_text(extracted_text):\n",
    "    preamble = (\"You're seeing the Adjusted EBITDA reconciliation table from Uber's 10-K report. \"\n",
    "                \"Your job is to accurately extract each item, its value for 2022 and 2023, \"\n",
    "                \"and the final Adjusted EBITDA value. Treat negative values as negative numbers.\")\n",
    "    return compile_template_and_get_llm_response(preamble, extracted_text, AdjustedEBITDAReconciliation)"
   ]
  },
  {
   "cell_type": "code",
   "execution_count": 11,
   "metadata": {},
   "outputs": [
    {
     "name": "stdout",
     "output_type": "stream",
     "text": [
      "Data written to ../saved-docs/uber_10k_extracted_data.json\n"
     ]
    }
   ],
   "source": [
    "import json\n",
    "import ast\n",
    "from datetime import date\n",
    "\n",
    "\n",
    "response = extract_adjusted_ebitda_from_text(extracted_text)\n",
    "\n",
    "# Parse the string into a Python dictionary\n",
    "try:\n",
    "    parsed_data = ast.literal_eval(response)\n",
    "except (SyntaxError, ValueError):\n",
    "    # If ast.literal_eval fails, try json.loads\n",
    "    try:\n",
    "        parsed_data = json.loads(response)\n",
    "    except json.JSONDecodeError:\n",
    "        print(\"Error: Unable to parse the response string.\")\n",
    "        parsed_data = {}\n",
    "\n",
    "# Add any additional metadata if needed\n",
    "combined_data = {\n",
    "    \"document_type\": \"Uber 10-K Report\",\n",
    "    \"extraction_date\": str(date.today()),  # You might want to use the actual current date\n",
    "    \"extracted_data\": parsed_data\n",
    "}\n",
    "\n",
    "# Write to a JSON file\n",
    "output_file = os.path.join('../saved-docs', 'uber_10k_extracted_data.json')\n",
    "\n",
    "with open(output_file, 'w') as f:\n",
    "    json.dump(combined_data, f, indent=2)\n",
    "\n",
    "print(f\"Data written to {output_file}\")"
   ]
  },
  {
   "cell_type": "code",
   "execution_count": 12,
   "metadata": {},
   "outputs": [],
   "source": [
    "from langchain.vectorstores import FAISS\n",
    "from langchain_openai import OpenAIEmbeddings\n",
    "from langchain.schema import Document\n",
    "\n",
    "# Load the JSON file\n",
    "with open(\"../saved-docs/uber_10k_extracted_data.json\", 'r') as f:\n",
    "    data = json.load(f)\n",
    "\n",
    "# Create documents\n",
    "documents = [\n",
    "    Document(\n",
    "        page_content=json.dumps(data['extracted_data']),\n",
    "        metadata={\n",
    "            \"document_type\": data['document_type'],\n",
    "            \"extraction_date\": data['extraction_date']\n",
    "        }\n",
    "    )\n",
    "]\n",
    "\n",
    "# Create the vector store\n",
    "embeddings = OpenAIEmbeddings()\n",
    "vectorstore = FAISS.from_documents(documents, embeddings)\n",
    "\n",
    "# Create the retriever\n",
    "retriever = vectorstore.as_retriever()"
   ]
  },
  {
   "cell_type": "code",
   "execution_count": 13,
   "metadata": {},
   "outputs": [
    {
     "data": {
      "text/plain": [
       "\"Uber's Adjusted EBITDA in 2022 was 1713.\""
      ]
     },
     "execution_count": 13,
     "metadata": {},
     "output_type": "execute_result"
    }
   ],
   "source": [
    "from langchain import hub\n",
    "from langchain.chains import create_retrieval_chain\n",
    "from langchain.chains.combine_documents import create_stuff_documents_chain\n",
    "\n",
    "# Load the openai chat model\n",
    "llm = ChatOpenAI(model_name=\"gpt-3.5-turbo\",temperature=0)\n",
    "\n",
    "# QA prompt\n",
    "retrieval_qa_chat_prompt = hub.pull(\"langchain-ai/retrieval-qa-chat\")\n",
    "\n",
    "combine_docs_chain = create_stuff_documents_chain(\n",
    "    llm, retrieval_qa_chat_prompt\n",
    ")\n",
    "retrieval_chain = create_retrieval_chain(retriever, combine_docs_chain)\n",
    "\n",
    "response = retrieval_chain.invoke({\"input\":\"What was Uber's Adjusted EBITDA in 2022?\"})\n",
    "response['answer']"
   ]
  }
 ],
 "metadata": {
  "kernelspec": {
   "display_name": ".venv",
   "language": "python",
   "name": "python3"
  },
  "language_info": {
   "codemirror_mode": {
    "name": "ipython",
    "version": 3
   },
   "file_extension": ".py",
   "mimetype": "text/x-python",
   "name": "python",
   "nbconvert_exporter": "python",
   "pygments_lexer": "ipython3",
   "version": "3.10.14"
  }
 },
 "nbformat": 4,
 "nbformat_minor": 2
}
